{
 "cells": [
  {
   "cell_type": "code",
   "execution_count": 5,
   "metadata": {},
   "outputs": [],
   "source": [
    "import pandas as pd\n",
    "\n",
    "\n",
    "file_17_18 = pd.read_excel('NHL_stats.xlsx',sheet_name =0, skiprows= 1)\n",
    "file_16_17 = pd.read_excel('NHL_stats.xlsx',sheet_name =1, skiprows= 1)\n",
    "file_15_16 = pd.read_excel('NHL_stats.xlsx',sheet_name =2, skiprows= 1)\n",
    "file_14_15 = pd.read_excel('NHL_stats.xlsx',sheet_name =3, skiprows= 1)\n",
    "file_13_14 = pd.read_excel('NHL_stats.xlsx',sheet_name =4, skiprows= 1)\n",
    "file_12_13 = pd.read_excel('NHL_stats.xlsx',sheet_name =5, skiprows= 1)\n",
    "file_11_12 = pd.read_excel('NHL_stats.xlsx',sheet_name =6, skiprows= 1)\n",
    "file_10_11 = pd.read_excel('NHL_stats.xlsx',sheet_name =7, skiprows= 1)\n",
    "file_09_10 = pd.read_excel('NHL_stats.xlsx',sheet_name =8, skiprows= 1)\n",
    "file_08_09 = pd.read_excel('NHL_stats.xlsx',sheet_name =9, skiprows= 1)\n",
    "file_07_08 = pd.read_excel('NHL_stats.xlsx',sheet_name =10, skiprows= 1, usecols= [0,1,2,7,8,9,10,13,14,15,16,17])\n",
    "#usecols= [0,1,2,7,8,9,10,13,14,15,16,17]\n",
    "stats_lst = [file_07_08,file_08_09,file_09_10,file_10_11,file_11_12,file_12_13,file_13_14,file_14_15,file_15_16,file_16_17,file_17_18]\n",
    "        "
   ]
  },
  {
   "cell_type": "code",
   "execution_count": 22,
   "metadata": {},
   "outputs": [],
   "source": [
    "for dataframe in stats_lst:\n",
    "    # Stripping the sterisk out of the names\n",
    "    for iterator , string in enumerate(dataframe.iloc[:,1]):\n",
    "        dataframe.iloc[iterator,1] = string.strip('*')\n",
    "    #print(dataframe.iloc[:,1])\n",
    "        "
   ]
  },
  {
   "cell_type": "code",
   "execution_count": 24,
   "metadata": {},
   "outputs": [],
   "source": [
    "import numpy as np\n",
    "from sklearn.model_selection import train_test_split"
   ]
  },
  {
   "cell_type": "code",
   "execution_count": null,
   "metadata": {},
   "outputs": [],
   "source": []
  }
 ],
 "metadata": {
  "kernelspec": {
   "display_name": "Python 3",
   "language": "python",
   "name": "python3"
  },
  "language_info": {
   "codemirror_mode": {
    "name": "ipython",
    "version": 3
   },
   "file_extension": ".py",
   "mimetype": "text/x-python",
   "name": "python",
   "nbconvert_exporter": "python",
   "pygments_lexer": "ipython3",
   "version": "3.6.9"
  }
 },
 "nbformat": 4,
 "nbformat_minor": 2
}
