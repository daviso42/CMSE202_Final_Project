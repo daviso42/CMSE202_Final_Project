{
 "cells": [
  {
   "cell_type": "code",
   "execution_count": 2,
   "metadata": {},
   "outputs": [
    {
     "ename": "SyntaxError",
     "evalue": "invalid syntax (<ipython-input-2-d523bc4bb3fd>, line 4)",
     "output_type": "error",
     "traceback": [
      "\u001b[1;36m  File \u001b[1;32m\"<ipython-input-2-d523bc4bb3fd>\"\u001b[1;36m, line \u001b[1;32m4\u001b[0m\n\u001b[1;33m    def __init__(self, name, division) # probably add things like offense, defense, goaltending numbers\u001b[0m\n\u001b[1;37m                                                                                                       ^\u001b[0m\n\u001b[1;31mSyntaxError\u001b[0m\u001b[1;31m:\u001b[0m invalid syntax\n"
     ]
    }
   ],
   "source": [
    "################Team_Class###################\n",
    "\n",
    "class Team(object):\n",
    "    def __init__(self, name, division): # probably add things like offense, defense, goaltending numbers\n",
    "        self.name = name\n",
    "        self.division = division\n",
    "        self.offense = 0 # probably a number between 0 and 1\n",
    "        self.defense = 0\n",
    "        self.goaltending = 0\n",
    "        "
   ]
  },
  {
   "cell_type": "code",
   "execution_count": 3,
   "metadata": {},
   "outputs": [],
   "source": [
    "##############Season class###################\n",
    "\n",
    "class season(object):\n",
    "    def __init__(self, home, away, placing):\n",
    "        self.home = home\n",
    "        self.away = away\n",
    "        self.placeing = placing\n",
    "        \n",
    "    def play_game(self):\n",
    "        '''\n",
    "        I'm thinking like random numbers thats infuenced by a factor\n",
    "        based of teams ability.\n",
    "        \n",
    "        Then you update placing, which is just a sorted list\n",
    "        '''\n",
    "        \n",
    "    def print_results(self):\n",
    "        print(self.placing) # im thinking it just shows who wins"
   ]
  },
  {
   "cell_type": "code",
   "execution_count": null,
   "metadata": {},
   "outputs": [],
   "source": []
  }
 ],
 "metadata": {
  "kernelspec": {
   "display_name": "Python 3",
   "language": "python",
   "name": "python3"
  },
  "language_info": {
   "codemirror_mode": {
    "name": "ipython",
    "version": 3
   },
   "file_extension": ".py",
   "mimetype": "text/x-python",
   "name": "python",
   "nbconvert_exporter": "python",
   "pygments_lexer": "ipython3",
   "version": "3.6.9"
  }
 },
 "nbformat": 4,
 "nbformat_minor": 2
}
